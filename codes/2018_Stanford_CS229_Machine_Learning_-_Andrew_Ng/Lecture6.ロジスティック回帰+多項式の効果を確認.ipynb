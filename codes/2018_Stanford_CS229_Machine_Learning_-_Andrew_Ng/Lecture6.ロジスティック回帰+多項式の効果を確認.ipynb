{
 "cells": [
  {
   "cell_type": "code",
   "execution_count": 1,
   "id": "f0c68e09",
   "metadata": {},
   "outputs": [],
   "source": [
    "import matplotlib.pyplot as plt\n",
    "import numpy as np\n",
    "from sklearn.linear_model import LogisticRegression\n",
    "from sklearn.preprocessing import PolynomialFeatures\n",
    "\n",
    "%matplotlib inline"
   ]
  },
  {
   "cell_type": "markdown",
   "id": "a00ae6d6",
   "metadata": {},
   "source": [
    "動画の48分くらいで紹介されているデータを模倣する。"
   ]
  },
  {
   "cell_type": "code",
   "execution_count": 2,
   "id": "5f8813e0",
   "metadata": {},
   "outputs": [],
   "source": [
    "data1 = np.array([\n",
    "    [2, 8], [4, 9], [5, 2], [5, 8], [6, 10], [7, 1], [7, 3],\n",
    "    [8, 2], [9, 3], [9, 4], [9, 9], [10, 4], [10, 7], [11, 5]\n",
    "])\n",
    "data2 = np.array([\n",
    "    [3, 3], [3, 6], [4, 5], [5, 4],\n",
    "    [5, 6], [7, 5], [7, 7], [9, 6]\n",
    "])\n",
    "\n",
    "X = np.concatenate([data1, data2], axis=0)\n",
    "y = np.array([0] * len(data1) + [1] * len(data2))\n",
    "\n",
    "# [a, b] -> [a, b, a^2, ab, b^2]\n",
    "poly = PolynomialFeatures(degree=2, include_bias=False)"
   ]
  },
  {
   "cell_type": "code",
   "execution_count": 3,
   "id": "117991d4",
   "metadata": {},
   "outputs": [
    {
     "data": {
      "image/png": "[encoded data removed]",
      "text/plain": [
       "<Figure size 432x288 with 1 Axes>"
      ]
     },
     "metadata": {
      "needs_background": "light"
     },
     "output_type": "display_data"
    }
   ],
   "source": [
    "plt.scatter(data1[:, 0], data1[:, 1], c='blue', marker='o')\n",
    "plt.scatter(data2[:, 0], data2[:, 1], c='red', marker='x')\n",
    "plt.show()"
   ]
  },
  {
   "cell_type": "markdown",
   "id": "d8d0f311",
   "metadata": {},
   "source": [
    "学習を行う。"
   ]
  },
  {
   "cell_type": "code",
   "execution_count": 4,
   "id": "b589294e",
   "metadata": {},
   "outputs": [
    {
     "data": {
      "text/plain": [
       "LogisticRegression()"
      ]
     },
     "execution_count": 4,
     "metadata": {},
     "output_type": "execute_result"
    }
   ],
   "source": [
    "clf_orig = LogisticRegression()\n",
    "clf_orig.fit(X, y)\n",
    "\n",
    "clf_poly = LogisticRegression()\n",
    "clf_poly.fit(poly.fit_transform(X), y)"
   ]
  },
  {
   "cell_type": "markdown",
   "id": "130cc904",
   "metadata": {},
   "source": [
    "決定境界をそれぞれ描画する。"
   ]
  },
  {
   "cell_type": "code",
   "execution_count": 5,
   "id": "f827ceeb",
   "metadata": {},
   "outputs": [
    {
     "data": {
      "image/png": "[encoded data removed]",
      "text/plain": [
       "<Figure size 720x288 with 2 Axes>"
      ]
     },
     "metadata": {
      "needs_background": "light"
     },
     "output_type": "display_data"
    }
   ],
   "source": [
    "# https://scikit-learn.org/stable/auto_examples/ensemble/plot_voting_decision_regions.html\n",
    "x_min, x_max = X[:, 0].min() - 1, X[:, 0].max() + 1\n",
    "y_min, y_max = X[:, 1].min() - 1, X[:, 1].max() + 1\n",
    "xx, yy = np.meshgrid(np.arange(x_min, x_max, 0.1), np.arange(y_min, y_max, 0.1))\n",
    "\n",
    "plt.figure(figsize=(10, 4))\n",
    "for idx, clf, title in zip([1, 2], [clf_orig, clf_poly], ['original', 'polynomial']):\n",
    "    data = np.c_[xx.ravel(), yy.ravel()]\n",
    "    data = data if title == 'original' else poly.fit_transform(data)\n",
    "    Z = clf.predict(data)\n",
    "    Z = Z.reshape(xx.shape)\n",
    "\n",
    "    ax = plt.subplot(1, 2, idx)\n",
    "    ax.contourf(xx, yy, Z, alpha=0.4, cmap='jet')\n",
    "    ax.scatter(data1[:, 0], data1[:, 1], c='blue', marker='o')\n",
    "    ax.scatter(data2[:, 0], data2[:, 1], c='red', marker='x')\n",
    "    ax.set_title(title)"
   ]
  },
  {
   "cell_type": "code",
   "execution_count": null,
   "id": "4a4596dd",
   "metadata": {},
   "outputs": [],
   "source": []
  }
 ],
 "metadata": {
  "kernelspec": {
   "display_name": "Python 3",
   "language": "python",
   "name": "python3"
  },
  "language_info": {
   "codemirror_mode": {
    "name": "ipython",
    "version": 3
   },
   "file_extension": ".py",
   "mimetype": "text/x-python",
   "name": "python",
   "nbconvert_exporter": "python",
   "pygments_lexer": "ipython3",
   "version": "3.8.7"
  }
 },
 "nbformat": 4,
 "nbformat_minor": 5
}
